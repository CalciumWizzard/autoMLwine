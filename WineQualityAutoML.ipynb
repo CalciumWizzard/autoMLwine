{
 "cells": [
  {
   "cell_type": "markdown",
   "metadata": {},
   "source": [
    "### Importing the Libraries"
   ]
  },
  {
   "cell_type": "code",
   "execution_count": null,
   "metadata": {},
   "outputs": [],
   "source": [
    "import numpy as np\n",
    "import pandas as pd\n",
    "import matplotlib.pyplot as plt\n",
    "import seaborn as sns\n",
    "from datetime import date\n",
    "%matplotlib inline\n",
    "\n",
    "pd.set_option('precision', 3)"
   ]
  },
  {
   "cell_type": "markdown",
   "metadata": {},
   "source": [
    "### Importing the dataset"
   ]
  },
  {
   "cell_type": "code",
   "execution_count": null,
   "metadata": {},
   "outputs": [],
   "source": [
    "labels = ('fixed_acidity','volatile_acidity','citric_acid','residual_sugar','chlorides','free_sulfur_dioxide','total_sulfur_dioxide','density','pH','sulphates','alcohol','quality')\n",
    "df_red = pd.read_csv('Datasets/winequality-red.csv', header = 0, names = labels,sep = ';')"
   ]
  },
  {
   "cell_type": "markdown",
   "metadata": {},
   "source": [
    "### Display the dataset"
   ]
  },
  {
   "cell_type": "code",
   "execution_count": null,
   "metadata": {},
   "outputs": [],
   "source": [
    "df_red.head(2)"
   ]
  },
  {
   "cell_type": "code",
   "execution_count": null,
   "metadata": {},
   "outputs": [],
   "source": [
    "def drop_constant_column(dataframe):\n",
    "    return dataframe.loc[:, (dataframe != dataframe.iloc[0]).any()]\n",
    "\n",
    "def cleanDf(df):\n",
    "    columns_len = len(df.columns)\n",
    "    # clear empty or \"singular\" columns\n",
    "    df = df.dropna(axis='columns', how='all')\n",
    "    df = drop_constant_column(df)\n",
    "    len_before_drop = len(df)\n",
    "    df = df.drop_duplicates()\n",
    "    print(f\"Loaded {len_before_drop} records, removed {len_before_drop - len(df)} duplicates, left {len(df)}, removed {columns_len-len(df.columns)} of {columns_len} columns\")\n",
    "\n",
    "    return df"
   ]
  },
  {
   "cell_type": "markdown",
   "metadata": {},
   "source": [
    "#### Dropping the Duplicate Values and normalizing data"
   ]
  },
  {
   "cell_type": "code",
   "execution_count": null,
   "metadata": {},
   "outputs": [],
   "source": [
    "#loading data into MinMax scaler to change min=0 and max=1 of every column\n",
    "from sklearn import preprocessing\n",
    "from sklearn.preprocessing import MinMaxScaler\n",
    "df_red = cleanDf(df_red)\n",
    "scaler = MinMaxScaler()\n",
    "scaler.fit(df_red)\n",
    "d = scaler.transform(df_red)\n",
    "scaled_df = pd.DataFrame(d, columns=labels)\n",
    "scaled_df.head()"
   ]
  },
  {
   "cell_type": "markdown",
   "metadata": {},
   "source": [
    "## Exploratory Data Analysis"
   ]
  },
  {
   "cell_type": "code",
   "execution_count": null,
   "metadata": {},
   "outputs": [],
   "source": [
    "def get_features(df, label, threshold):\n",
    "    correlations = df.corr()[label].drop(label)\n",
    "    features = correlations[correlations.abs() > threshold].index.tolist()\n",
    "    df_filtered = df[features + [label]]\n",
    "\n",
    "    return df_filtered, features, correlations"
   ]
  },
  {
   "cell_type": "code",
   "execution_count": null,
   "metadata": {},
   "outputs": [],
   "source": [
    "label = 'quality'\n",
    "scaled_df_features, features, _ = get_features(scaled_df, label, 0.1)"
   ]
  },
  {
   "cell_type": "code",
   "execution_count": null,
   "metadata": {},
   "outputs": [],
   "source": [
    "plt.figure(figsize=(18,6))\n",
    "sns.heatmap(scaled_df_features.corr(),annot=True)\n",
    "plt.title('Correlation Matrix of Red Wine for Quality');"
   ]
  },
  {
   "cell_type": "markdown",
   "metadata": {},
   "source": [
    "# Compare Predictions for Red Wine"
   ]
  },
  {
   "cell_type": "markdown",
   "metadata": {},
   "source": [
    "### Splitting into Train and Test sets"
   ]
  },
  {
   "cell_type": "code",
   "execution_count": null,
   "metadata": {},
   "outputs": [],
   "source": [
    "from sklearn.model_selection import train_test_split\n",
    "\n",
    "X = scaled_df[features]\n",
    "y = scaled_df[label]\n",
    "# split into train and test sets\n",
    "X_train, X_test, y_train, y_test = train_test_split(X, y, test_size=0.33, random_state=1)"
   ]
  },
  {
   "cell_type": "code",
   "execution_count": null,
   "metadata": {},
   "outputs": [],
   "source": [
    "X.head(2)"
   ]
  },
  {
   "cell_type": "code",
   "execution_count": null,
   "metadata": {},
   "outputs": [],
   "source": [
    "y.head(2)"
   ]
  },
  {
   "cell_type": "code",
   "execution_count": null,
   "metadata": {},
   "outputs": [],
   "source": [
    "from sklearn.linear_model import LinearRegression\n",
    "from sklearn import metrics\n",
    "\n",
    "lr = LinearRegression()\n",
    "lr.fit(X_train, y_train)"
   ]
  },
  {
   "cell_type": "code",
   "execution_count": null,
   "metadata": {},
   "outputs": [],
   "source": [
    "lr_train_pred = lr.predict(X_train)\n",
    "print(f'Train Prediction: {lr_train_pred[:15].astype(float)}\\n   Actual values: {y_train[:15].values}')\n",
    "lr_test_pred = lr.predict(X_test)\n",
    "print(f'Test  Prediction: {lr_test_pred[:15].astype(float)}\\n   Actual values: {y_test[:15].values}')"
   ]
  },
  {
   "cell_type": "code",
   "execution_count": null,
   "metadata": {},
   "outputs": [],
   "source": [
    "lr_rmse_train = metrics.mean_squared_error(lr_train_pred, y_train) ** 0.5\n",
    "print(f'LinearRegression train RMSE {lr_rmse_train:.2f}')\n",
    "\n",
    "lr_rmse_test = metrics.mean_squared_error(lr_test_pred, y_test) ** 0.5\n",
    "print(f'LinearRegression test  RMSE {lr_rmse_test:.2f}')"
   ]
  },
  {
   "cell_type": "markdown",
   "metadata": {},
   "source": [
    "#### Using AUTO ML"
   ]
  },
  {
   "cell_type": "code",
   "execution_count": null,
   "metadata": {},
   "outputs": [],
   "source": [
    "import autosklearn\n",
    "from sklearn.metrics import mean_absolute_error\n",
    "from autosklearn.regression import AutoSklearnRegressor\n",
    "from autosklearn.metrics import mean_absolute_error as auto_mean_absolute_error\n",
    "print(f'autosklearn: {autosklearn.__version__}')"
   ]
  },
  {
   "cell_type": "code",
   "execution_count": null,
   "metadata": {},
   "outputs": [],
   "source": [
    "def prediction_out(name, estimator):\n",
    "    train_pred = estimator.predict(X_train)\n",
    "    test_pred = estimator.predict(X_test)\n",
    "    rmse_train = metrics.mean_squared_error(train_pred, y_train) ** 0.5\n",
    "    rmse_test = metrics.mean_squared_error(test_pred, y_test) ** 0.5\n",
    "    print(f'{name} train RMSE {rmse_train:.3f}')\n",
    "    print(f'{name} test  RMSE {rmse_test:.3f}')\n",
    "    return rmse_train, rmse_test, train_pred, test_pred"
   ]
  },
  {
   "cell_type": "code",
   "execution_count": null,
   "metadata": {},
   "outputs": [],
   "source": [
    "# define search\n",
    "model_mae = AutoSklearnRegressor(time_left_for_this_task=2*60, metric=auto_mean_absolute_error, per_run_time_limit=30, n_jobs=-1)"
   ]
  },
  {
   "cell_type": "code",
   "execution_count": null,
   "metadata": {},
   "outputs": [],
   "source": [
    "# perform the search\n",
    "%time model_mae.fit(X_train, y_train)"
   ]
  },
  {
   "cell_type": "code",
   "execution_count": null,
   "metadata": {},
   "outputs": [],
   "source": [
    "# summarize\n",
    "print(model_mae.sprint_statistics())\n",
    "# evaluate best model_mae\n",
    "ar_train_pred = model_mae.predict(X_train)\n",
    "ar_test_pred = model_mae.predict(X_test)\n",
    "mae = mean_absolute_error(y_test, ar_test_pred)\n",
    "print(f\"MAE: {mae:.2f}\")"
   ]
  },
  {
   "cell_type": "code",
   "execution_count": null,
   "metadata": {},
   "outputs": [],
   "source": [
    "prediction_out('AutoSklearn', model_mae);"
   ]
  },
  {
   "cell_type": "markdown",
   "metadata": {},
   "source": [
    "**KERAS**"
   ]
  },
  {
   "cell_type": "code",
   "execution_count": null,
   "metadata": {},
   "outputs": [],
   "source": [
    "from keras.models import Sequential\n",
    "from keras.layers import Dense\n",
    "import tensorflow as tf\n",
    "from keras.wrappers.scikit_learn import KerasRegressor\n",
    "from sklearn.model_selection import cross_val_score\n",
    "from sklearn.model_selection import KFold\n",
    "from sklearn.preprocessing import StandardScaler\n",
    "from sklearn.pipeline import Pipeline\n",
    "import logging\n",
    "tf.get_logger().setLevel(logging.ERROR)"
   ]
  },
  {
   "cell_type": "code",
   "execution_count": null,
   "metadata": {},
   "outputs": [],
   "source": [
    "# define base model wraper\n",
    "def baseline_model_arg(activation_type):\n",
    "    # create model\n",
    "    def baseline_model():\n",
    "        model = Sequential()\n",
    "        model.add(Dense(12, input_dim=8, kernel_initializer='normal', activation=activation_type))\n",
    "        model.add(Dense(8, activation=activation_type))\n",
    "        model.add(Dense(1, kernel_initializer='normal'))\n",
    "        # Compile model\n",
    "        model.compile(loss='mean_squared_error', optimizer='adam')\n",
    "        return model\n",
    "    return baseline_model"
   ]
  },
  {
   "cell_type": "code",
   "execution_count": null,
   "metadata": {},
   "outputs": [],
   "source": [
    "#define keras model function serealization\n",
    "def KerasRMSE(epoch, batches, activator, verbosity=0):\n",
    "    kfold_s = KFold(n_splits=10)\n",
    "    estimator_ks = KerasRegressor(build_fn=baseline_model_arg(activator), epochs=epoch, batch_size=batches, verbose=verbosity)\n",
    "    %time results_s = cross_val_score(estimator_ks, X, y, cv=kfold_s)\n",
    "    callbacks_list = [\n",
    "    tf.keras.callbacks.EarlyStopping(patience=2),\n",
    "    tf.keras.callbacks.ModelCheckpoint(filepath='./models/model.{epoch:02d}-{val_loss:.2f}.h5'),\n",
    "    tf.keras.callbacks.TensorBoard(log_dir=f'./logs/{date.today().strftime(\"%b-%d-%Y\")}'),]\n",
    "    estimator_ks.fit(X_train, y_train, validation_split=0.33, callbacks=callbacks_list)\n",
    "                    \n",
    "    return estimator_ks"
   ]
  },
  {
   "cell_type": "code",
   "execution_count": null,
   "metadata": {},
   "outputs": [],
   "source": [
    "activations_full = ['relu', 'sigmoid', 'softmax', 'softplus']\n",
    "def KerasAuto(activators, epochs, verbosity=0):\n",
    "    batches = 5\n",
    "    estimator_ks_1 = KerasRMSE(epochs[0], batches, activators[0], verbosity)\n",
    "    o1, o2, _, _ = prediction_out(f'keras {epochs[0]} {batches}', estimator_ks_1)\n",
    "    for i, activator in enumerate(activators):\n",
    "        for j, epoch in enumerate(epochs):\n",
    "            if i == 0 and j == 0:\n",
    "                continue\n",
    "            estimator_ks_2 = KerasRMSE(epoch, batches, activator, verbosity)\n",
    "            l1, l2, _, _ = prediction_out(f'keras {epoch} {batches}', estimator_ks_2)\n",
    "            if l2 > o2 and abs(o2 - o1) < abs(l2 - l1):\n",
    "                break\n",
    "            if l2 < o2:\n",
    "                o1 = l1\n",
    "                o2 = l2\n",
    "                estimator_ks_1 = estimator_ks_2\n",
    "            print(f'{activator, epoch}')\n",
    "    return estimator_ks_1"
   ]
  },
  {
   "cell_type": "code",
   "execution_count": null,
   "metadata": {},
   "outputs": [],
   "source": [
    "epochs = [5, 10, 20]\n",
    "estimator_ks_1 = KerasAuto(activations_full, epochs)"
   ]
  },
  {
   "cell_type": "code",
   "execution_count": null,
   "metadata": {},
   "outputs": [],
   "source": [
    "prediction_out('linear', lr)\n",
    "_, _, am_train_pred, am_test_pred = prediction_out('AutoSklearn', model_mae)\n",
    "_, _, keras_train_pred, keras_test_pred = prediction_out('keras', estimator_ks_1)"
   ]
  },
  {
   "cell_type": "code",
   "execution_count": null,
   "metadata": {},
   "outputs": [],
   "source": [
    "import matplotlib.gridspec as gridspec\n",
    "\n",
    "gs = gridspec.GridSpec(1, 3)\n",
    "fig = plt.figure(figsize=(24, 8), dpi=80)\n",
    "ax1 = fig.add_subplot(gs[0, 0])\n",
    "ax1.scatter(y_test, lr_test_pred)\n",
    "ax1.update(dict(title='Linear', xlabel='value', ylabel='prediction'))\n",
    "\n",
    "ax2 = fig.add_subplot(gs[0, 1])\n",
    "ax2.scatter(y_test, keras_test_pred)\n",
    "ax2.update(dict(title='Keras', xlabel='value', ylabel='prediction'))\n",
    "\n",
    "ax3 = fig.add_subplot(gs[0, 2])\n",
    "ax3.scatter(y_test, am_test_pred)\n",
    "ax3.update(dict(title='AutoML', xlabel='value', ylabel='prediction'))\n",
    "plt.show()"
   ]
  },
  {
   "cell_type": "markdown",
   "metadata": {},
   "source": [
    "**CONCLUSION:** The best results"
   ]
  }
 ],
 "metadata": {
  "kernelspec": {
   "display_name": "Python 3",
   "language": "python",
   "name": "python3"
  },
  "language_info": {
   "codemirror_mode": {
    "name": "ipython",
    "version": 3
   },
   "file_extension": ".py",
   "mimetype": "text/x-python",
   "name": "python",
   "nbconvert_exporter": "python",
   "pygments_lexer": "ipython3",
   "version": "3.8.8"
  }
 },
 "nbformat": 4,
 "nbformat_minor": 4
}
