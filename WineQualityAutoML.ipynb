{
 "cells": [
  {
   "cell_type": "markdown",
   "metadata": {},
   "source": [
    "### Importing the Libraries"
   ]
  },
  {
   "cell_type": "code",
   "execution_count": 105,
   "metadata": {},
   "outputs": [],
   "source": [
    "import numpy as np\n",
    "import pandas as pd\n",
    "import matplotlib.pyplot as plt\n",
    "import seaborn as sns\n",
    "from datetime import date\n",
    "%matplotlib inline\n",
    "\n",
    "pd.set_option('precision', 3)"
   ]
  },
  {
   "cell_type": "markdown",
   "metadata": {},
   "source": [
    "### Importing the dataset"
   ]
  },
  {
   "cell_type": "code",
   "execution_count": 106,
   "metadata": {},
   "outputs": [],
   "source": [
    "labels = ('fixed_acidity','volatile_acidity','citric_acid','residual_sugar','chlorides','free_sulfur_dioxide','total_sulfur_dioxide','density','pH','sulphates','alcohol','quality')\n",
    "df_red = pd.read_csv('Datasets/winequality-red.csv', header = 0, names = labels,sep = ';')"
   ]
  },
  {
   "cell_type": "markdown",
   "metadata": {},
   "source": [
    "### Display the dataset"
   ]
  },
  {
   "cell_type": "code",
   "execution_count": 107,
   "metadata": {},
   "outputs": [
    {
     "data": {
      "text/html": [
       "<div>\n",
       "<style scoped>\n",
       "    .dataframe tbody tr th:only-of-type {\n",
       "        vertical-align: middle;\n",
       "    }\n",
       "\n",
       "    .dataframe tbody tr th {\n",
       "        vertical-align: top;\n",
       "    }\n",
       "\n",
       "    .dataframe thead th {\n",
       "        text-align: right;\n",
       "    }\n",
       "</style>\n",
       "<table border=\"1\" class=\"dataframe\">\n",
       "  <thead>\n",
       "    <tr style=\"text-align: right;\">\n",
       "      <th></th>\n",
       "      <th>fixed_acidity</th>\n",
       "      <th>volatile_acidity</th>\n",
       "      <th>citric_acid</th>\n",
       "      <th>residual_sugar</th>\n",
       "      <th>chlorides</th>\n",
       "      <th>free_sulfur_dioxide</th>\n",
       "      <th>total_sulfur_dioxide</th>\n",
       "      <th>density</th>\n",
       "      <th>pH</th>\n",
       "      <th>sulphates</th>\n",
       "      <th>alcohol</th>\n",
       "      <th>quality</th>\n",
       "    </tr>\n",
       "  </thead>\n",
       "  <tbody>\n",
       "    <tr>\n",
       "      <th>0</th>\n",
       "      <td>7.4</td>\n",
       "      <td>0.70</td>\n",
       "      <td>0.0</td>\n",
       "      <td>1.9</td>\n",
       "      <td>0.076</td>\n",
       "      <td>11.0</td>\n",
       "      <td>34.0</td>\n",
       "      <td>0.998</td>\n",
       "      <td>3.51</td>\n",
       "      <td>0.56</td>\n",
       "      <td>9.4</td>\n",
       "      <td>5</td>\n",
       "    </tr>\n",
       "    <tr>\n",
       "      <th>1</th>\n",
       "      <td>7.8</td>\n",
       "      <td>0.88</td>\n",
       "      <td>0.0</td>\n",
       "      <td>2.6</td>\n",
       "      <td>0.098</td>\n",
       "      <td>25.0</td>\n",
       "      <td>67.0</td>\n",
       "      <td>0.997</td>\n",
       "      <td>3.20</td>\n",
       "      <td>0.68</td>\n",
       "      <td>9.8</td>\n",
       "      <td>5</td>\n",
       "    </tr>\n",
       "  </tbody>\n",
       "</table>\n",
       "</div>"
      ],
      "text/plain": [
       "   fixed_acidity  volatile_acidity  citric_acid  residual_sugar  chlorides  \\\n",
       "0            7.4              0.70          0.0             1.9      0.076   \n",
       "1            7.8              0.88          0.0             2.6      0.098   \n",
       "\n",
       "   free_sulfur_dioxide  total_sulfur_dioxide  density    pH  sulphates  \\\n",
       "0                 11.0                  34.0    0.998  3.51       0.56   \n",
       "1                 25.0                  67.0    0.997  3.20       0.68   \n",
       "\n",
       "   alcohol  quality  \n",
       "0      9.4        5  \n",
       "1      9.8        5  "
      ]
     },
     "execution_count": 107,
     "metadata": {},
     "output_type": "execute_result"
    }
   ],
   "source": [
    "df_red.head(2)"
   ]
  },
  {
   "cell_type": "code",
   "execution_count": 108,
   "metadata": {},
   "outputs": [],
   "source": [
    "def drop_constant_column(dataframe):\n",
    "    return dataframe.loc[:, (dataframe != dataframe.iloc[0]).any()]\n",
    "\n",
    "def cleanDf(df):\n",
    "    columns_len = len(df.columns)\n",
    "    # clear empty or \"singular\" columns\n",
    "    df = df.dropna(axis='columns', how='all')\n",
    "    df = drop_constant_column(df)\n",
    "    len_before_drop = len(df)\n",
    "    df = df.drop_duplicates()\n",
    "    print(f\"Loaded {len_before_drop} records, removed {len_before_drop - len(df)} duplicates, left {len(df)}, removed {columns_len-len(df.columns)} of {columns_len} columns\")\n",
    "\n",
    "    return df"
   ]
  },
  {
   "cell_type": "markdown",
   "metadata": {},
   "source": [
    "#### Dropping the Duplicate Values and normalizing data"
   ]
  },
  {
   "cell_type": "code",
   "execution_count": 109,
   "metadata": {},
   "outputs": [
    {
     "name": "stdout",
     "output_type": "stream",
     "text": [
      "Loaded 1599 records, removed 240 duplicates, left 1359, removed 0 of 12 columns\n"
     ]
    }
   ],
   "source": [
    "#clearing duplicates and removing outliers\n",
    "df_red = cleanDf(df_red)"
   ]
  },
  {
   "cell_type": "code",
   "execution_count": 110,
   "metadata": {},
   "outputs": [
    {
     "data": {
      "text/html": [
       "<div>\n",
       "<style scoped>\n",
       "    .dataframe tbody tr th:only-of-type {\n",
       "        vertical-align: middle;\n",
       "    }\n",
       "\n",
       "    .dataframe tbody tr th {\n",
       "        vertical-align: top;\n",
       "    }\n",
       "\n",
       "    .dataframe thead th {\n",
       "        text-align: right;\n",
       "    }\n",
       "</style>\n",
       "<table border=\"1\" class=\"dataframe\">\n",
       "  <thead>\n",
       "    <tr style=\"text-align: right;\">\n",
       "      <th></th>\n",
       "      <th>fixed_acidity</th>\n",
       "      <th>volatile_acidity</th>\n",
       "      <th>citric_acid</th>\n",
       "      <th>residual_sugar</th>\n",
       "      <th>chlorides</th>\n",
       "      <th>free_sulfur_dioxide</th>\n",
       "      <th>total_sulfur_dioxide</th>\n",
       "      <th>density</th>\n",
       "      <th>pH</th>\n",
       "      <th>sulphates</th>\n",
       "      <th>alcohol</th>\n",
       "      <th>quality</th>\n",
       "    </tr>\n",
       "  </thead>\n",
       "  <tbody>\n",
       "    <tr>\n",
       "      <th>0</th>\n",
       "      <td>0.248</td>\n",
       "      <td>0.397</td>\n",
       "      <td>0.00</td>\n",
       "      <td>0.068</td>\n",
       "      <td>0.107</td>\n",
       "      <td>0.141</td>\n",
       "      <td>0.099</td>\n",
       "      <td>0.568</td>\n",
       "      <td>0.606</td>\n",
       "      <td>0.138</td>\n",
       "      <td>0.154</td>\n",
       "      <td>0.4</td>\n",
       "    </tr>\n",
       "    <tr>\n",
       "      <th>1</th>\n",
       "      <td>0.283</td>\n",
       "      <td>0.521</td>\n",
       "      <td>0.00</td>\n",
       "      <td>0.116</td>\n",
       "      <td>0.144</td>\n",
       "      <td>0.338</td>\n",
       "      <td>0.216</td>\n",
       "      <td>0.494</td>\n",
       "      <td>0.362</td>\n",
       "      <td>0.210</td>\n",
       "      <td>0.215</td>\n",
       "      <td>0.4</td>\n",
       "    </tr>\n",
       "    <tr>\n",
       "      <th>2</th>\n",
       "      <td>0.283</td>\n",
       "      <td>0.438</td>\n",
       "      <td>0.04</td>\n",
       "      <td>0.096</td>\n",
       "      <td>0.134</td>\n",
       "      <td>0.197</td>\n",
       "      <td>0.170</td>\n",
       "      <td>0.509</td>\n",
       "      <td>0.409</td>\n",
       "      <td>0.192</td>\n",
       "      <td>0.215</td>\n",
       "      <td>0.4</td>\n",
       "    </tr>\n",
       "    <tr>\n",
       "      <th>3</th>\n",
       "      <td>0.584</td>\n",
       "      <td>0.110</td>\n",
       "      <td>0.56</td>\n",
       "      <td>0.068</td>\n",
       "      <td>0.105</td>\n",
       "      <td>0.225</td>\n",
       "      <td>0.191</td>\n",
       "      <td>0.582</td>\n",
       "      <td>0.331</td>\n",
       "      <td>0.150</td>\n",
       "      <td>0.215</td>\n",
       "      <td>0.6</td>\n",
       "    </tr>\n",
       "    <tr>\n",
       "      <th>4</th>\n",
       "      <td>0.248</td>\n",
       "      <td>0.370</td>\n",
       "      <td>0.00</td>\n",
       "      <td>0.062</td>\n",
       "      <td>0.105</td>\n",
       "      <td>0.169</td>\n",
       "      <td>0.120</td>\n",
       "      <td>0.568</td>\n",
       "      <td>0.606</td>\n",
       "      <td>0.138</td>\n",
       "      <td>0.154</td>\n",
       "      <td>0.4</td>\n",
       "    </tr>\n",
       "  </tbody>\n",
       "</table>\n",
       "</div>"
      ],
      "text/plain": [
       "   fixed_acidity  volatile_acidity  citric_acid  residual_sugar  chlorides  \\\n",
       "0          0.248             0.397         0.00           0.068      0.107   \n",
       "1          0.283             0.521         0.00           0.116      0.144   \n",
       "2          0.283             0.438         0.04           0.096      0.134   \n",
       "3          0.584             0.110         0.56           0.068      0.105   \n",
       "4          0.248             0.370         0.00           0.062      0.105   \n",
       "\n",
       "   free_sulfur_dioxide  total_sulfur_dioxide  density     pH  sulphates  \\\n",
       "0                0.141                 0.099    0.568  0.606      0.138   \n",
       "1                0.338                 0.216    0.494  0.362      0.210   \n",
       "2                0.197                 0.170    0.509  0.409      0.192   \n",
       "3                0.225                 0.191    0.582  0.331      0.150   \n",
       "4                0.169                 0.120    0.568  0.606      0.138   \n",
       "\n",
       "   alcohol  quality  \n",
       "0    0.154      0.4  \n",
       "1    0.215      0.4  \n",
       "2    0.215      0.4  \n",
       "3    0.215      0.6  \n",
       "4    0.154      0.4  "
      ]
     },
     "execution_count": 110,
     "metadata": {},
     "output_type": "execute_result"
    }
   ],
   "source": [
    "#loading data into MinMax scaler to change min=0 and max=1 of every column\n",
    "from sklearn import preprocessing\n",
    "from sklearn.preprocessing import MinMaxScaler\n",
    "scaler = MinMaxScaler()\n",
    "scaler.fit(df_red)\n",
    "d = scaler.transform(df_red)\n",
    "scaled_df = pd.DataFrame(d, columns=labels)\n",
    "scaled_df.head()"
   ]
  },
  {
   "cell_type": "markdown",
   "metadata": {},
   "source": [
    "## Exploratory Data Analysis"
   ]
  },
  {
   "cell_type": "code",
   "execution_count": 111,
   "metadata": {},
   "outputs": [],
   "source": [
    "def get_features(df, label, threshold):\n",
    "    correlations = df.corr()[label].drop(label)\n",
    "    features = correlations[correlations.abs() > threshold].index.tolist()\n",
    "    df_filtered = df[features + [label]]\n",
    "\n",
    "    return df_filtered, features, correlations"
   ]
  },
  {
   "cell_type": "code",
   "execution_count": 112,
   "metadata": {},
   "outputs": [],
   "source": [
    "label = 'quality'\n",
    "scaled_df_features, features, _ = get_features(scaled_df, label, 0.1)"
   ]
  },
  {
   "cell_type": "code",
   "execution_count": 113,
   "metadata": {},
   "outputs": [
    {
     "data": {
      "image/png": "[encoded data removed]",
      "text/plain": [
       "<Figure size 1296x432 with 2 Axes>"
      ]
     },
     "metadata": {
      "needs_background": "light"
     },
     "output_type": "display_data"
    }
   ],
   "source": [
    "plt.figure(figsize=(18,6))\n",
    "sns.heatmap(scaled_df_features.corr(),annot=True)\n",
    "plt.title('Correlation Matrix of Red Wine for Quality');"
   ]
  },
  {
   "cell_type": "markdown",
   "metadata": {},
   "source": [
    "# Compare Predictions for Red Wine"
   ]
  },
  {
   "cell_type": "markdown",
   "metadata": {},
   "source": [
    "### Splitting into Train and Test sets"
   ]
  },
  {
   "cell_type": "code",
   "execution_count": 114,
   "metadata": {},
   "outputs": [],
   "source": [
    "from sklearn.model_selection import train_test_split\n",
    "\n",
    "X = scaled_df[features]\n",
    "y = scaled_df[label]\n",
    "# split into train and test sets\n",
    "X_train, X_test, y_train, y_test = train_test_split(X, y, test_size=0.33, random_state=1)"
   ]
  },
  {
   "cell_type": "code",
   "execution_count": 115,
   "metadata": {},
   "outputs": [
    {
     "data": {
      "text/html": [
       "<div>\n",
       "<style scoped>\n",
       "    .dataframe tbody tr th:only-of-type {\n",
       "        vertical-align: middle;\n",
       "    }\n",
       "\n",
       "    .dataframe tbody tr th {\n",
       "        vertical-align: top;\n",
       "    }\n",
       "\n",
       "    .dataframe thead th {\n",
       "        text-align: right;\n",
       "    }\n",
       "</style>\n",
       "<table border=\"1\" class=\"dataframe\">\n",
       "  <thead>\n",
       "    <tr style=\"text-align: right;\">\n",
       "      <th></th>\n",
       "      <th>fixed_acidity</th>\n",
       "      <th>volatile_acidity</th>\n",
       "      <th>citric_acid</th>\n",
       "      <th>chlorides</th>\n",
       "      <th>total_sulfur_dioxide</th>\n",
       "      <th>density</th>\n",
       "      <th>sulphates</th>\n",
       "      <th>alcohol</th>\n",
       "    </tr>\n",
       "  </thead>\n",
       "  <tbody>\n",
       "    <tr>\n",
       "      <th>0</th>\n",
       "      <td>0.248</td>\n",
       "      <td>0.397</td>\n",
       "      <td>0.0</td>\n",
       "      <td>0.107</td>\n",
       "      <td>0.099</td>\n",
       "      <td>0.568</td>\n",
       "      <td>0.138</td>\n",
       "      <td>0.154</td>\n",
       "    </tr>\n",
       "    <tr>\n",
       "      <th>1</th>\n",
       "      <td>0.283</td>\n",
       "      <td>0.521</td>\n",
       "      <td>0.0</td>\n",
       "      <td>0.144</td>\n",
       "      <td>0.216</td>\n",
       "      <td>0.494</td>\n",
       "      <td>0.210</td>\n",
       "      <td>0.215</td>\n",
       "    </tr>\n",
       "  </tbody>\n",
       "</table>\n",
       "</div>"
      ],
      "text/plain": [
       "   fixed_acidity  volatile_acidity  citric_acid  chlorides  \\\n",
       "0          0.248             0.397          0.0      0.107   \n",
       "1          0.283             0.521          0.0      0.144   \n",
       "\n",
       "   total_sulfur_dioxide  density  sulphates  alcohol  \n",
       "0                 0.099    0.568      0.138    0.154  \n",
       "1                 0.216    0.494      0.210    0.215  "
      ]
     },
     "execution_count": 115,
     "metadata": {},
     "output_type": "execute_result"
    }
   ],
   "source": [
    "X.head(2)"
   ]
  },
  {
   "cell_type": "code",
   "execution_count": 116,
   "metadata": {},
   "outputs": [
    {
     "data": {
      "text/plain": [
       "0    0.4\n",
       "1    0.4\n",
       "Name: quality, dtype: float64"
      ]
     },
     "execution_count": 116,
     "metadata": {},
     "output_type": "execute_result"
    }
   ],
   "source": [
    "y.head(2)"
   ]
  },
  {
   "cell_type": "code",
   "execution_count": 117,
   "metadata": {},
   "outputs": [
    {
     "data": {
      "text/plain": [
       "LinearRegression()"
      ]
     },
     "execution_count": 117,
     "metadata": {},
     "output_type": "execute_result"
    }
   ],
   "source": [
    "from sklearn.linear_model import LinearRegression\n",
    "from sklearn import metrics\n",
    "\n",
    "lr = LinearRegression()\n",
    "lr.fit(X_train, y_train)"
   ]
  },
  {
   "cell_type": "code",
   "execution_count": 118,
   "metadata": {},
   "outputs": [
    {
     "name": "stdout",
     "output_type": "stream",
     "text": [
      "Train Prediction: [0.41696654 0.4998864  0.57116935 0.46426535 0.50989195 0.61574657\n",
      " 0.36791434 0.56189885 0.39694115 0.57595776 0.63096213 0.62001388\n",
      " 0.40504745 0.61476186 0.43682876]\n",
      "   Actual values: [0.4 0.8 0.6 0.4 0.4 0.6 0.4 0.8 0.4 0.6 0.6 0.8 0.4 0.8 0.4]\n",
      "Test  Prediction: [0.63094384 0.39226947 0.75965946 0.628169   0.51551542 0.71743784\n",
      " 0.5491511  0.73057096 0.69972363 0.62897545 0.46213126 0.52835869\n",
      " 0.42948811 0.46504947 0.37631617]\n",
      "   Actual values: [0.4 0.4 0.6 0.8 0.6 0.6 0.4 0.8 0.8 0.6 0.6 0.6 0.6 0.4 0.2]\n"
     ]
    }
   ],
   "source": [
    "lr_train_pred = lr.predict(X_train)\n",
    "print(f'Train Prediction: {lr_train_pred[:15].astype(float)}\\n   Actual values: {y_train[:15].values}')\n",
    "lr_test_pred = lr.predict(X_test)\n",
    "print(f'Test  Prediction: {lr_test_pred[:15].astype(float)}\\n   Actual values: {y_test[:15].values}')"
   ]
  },
  {
   "cell_type": "code",
   "execution_count": 119,
   "metadata": {},
   "outputs": [
    {
     "name": "stdout",
     "output_type": "stream",
     "text": [
      "LinearRegression train RMSE 0.13\n",
      "LinearRegression test  RMSE 0.14\n"
     ]
    }
   ],
   "source": [
    "lr_rmse_train = metrics.mean_squared_error(lr_train_pred, y_train) ** 0.5\n",
    "print(f'LinearRegression train RMSE {lr_rmse_train:.2f}')\n",
    "\n",
    "lr_rmse_test = metrics.mean_squared_error(lr_test_pred, y_test) ** 0.5\n",
    "print(f'LinearRegression test  RMSE {lr_rmse_test:.2f}')"
   ]
  },
  {
   "cell_type": "markdown",
   "metadata": {},
   "source": [
    "#### Using AUTO ML"
   ]
  },
  {
   "cell_type": "code",
   "execution_count": 120,
   "metadata": {},
   "outputs": [
    {
     "name": "stdout",
     "output_type": "stream",
     "text": [
      "autosklearn: 0.12.6\n"
     ]
    }
   ],
   "source": [
    "import autosklearn\n",
    "from sklearn.metrics import mean_absolute_error\n",
    "from autosklearn.regression import AutoSklearnRegressor\n",
    "from autosklearn.metrics import mean_absolute_error as auto_mean_absolute_error\n",
    "print(f'autosklearn: {autosklearn.__version__}')"
   ]
  },
  {
   "cell_type": "code",
   "execution_count": 121,
   "metadata": {},
   "outputs": [],
   "source": [
    "def prediction_out(name, estimator):\n",
    "    train_pred = estimator.predict(X_train)\n",
    "    test_pred = estimator.predict(X_test)\n",
    "    rmse_train = metrics.mean_squared_error(train_pred, y_train) ** 0.5\n",
    "    rmse_test = metrics.mean_squared_error(test_pred, y_test) ** 0.5\n",
    "    print(f'{name} train RMSE {rmse_train:.3f}')\n",
    "    print(f'{name} test  RMSE {rmse_test:.3f}')\n",
    "    return rmse_train, rmse_test, train_pred, test_pred"
   ]
  },
  {
   "cell_type": "code",
   "execution_count": 122,
   "metadata": {},
   "outputs": [],
   "source": [
    "# define search\n",
    "model_mae = AutoSklearnRegressor(time_left_for_this_task=6*60, metric=auto_mean_absolute_error, per_run_time_limit=60, n_jobs=-1)"
   ]
  },
  {
   "cell_type": "code",
   "execution_count": 123,
   "metadata": {},
   "outputs": [
    {
     "name": "stdout",
     "output_type": "stream",
     "text": [
      "CPU times: user 4min 4s, sys: 12.2 s, total: 4min 16s\n",
      "Wall time: 6min 2s\n"
     ]
    },
    {
     "data": {
      "text/plain": [
       "AutoSklearnRegressor(metric=mean_absolute_error, n_jobs=-1,\n",
       "                     per_run_time_limit=60, time_left_for_this_task=360)"
      ]
     },
     "execution_count": 123,
     "metadata": {},
     "output_type": "execute_result"
    }
   ],
   "source": [
    "# perform the search\n",
    "%time model_mae.fit(X_train, y_train)"
   ]
  },
  {
   "cell_type": "code",
   "execution_count": 124,
   "metadata": {},
   "outputs": [
    {
     "name": "stdout",
     "output_type": "stream",
     "text": [
      "auto-sklearn results:\n",
      "  Dataset name: 5c594ec7-e327-11eb-8f13-9f780073e798\n",
      "  Metric: mean_absolute_error\n",
      "  Best validation score: 0.094255\n",
      "  Number of target algorithm runs: 57\n",
      "  Number of successful target algorithm runs: 46\n",
      "  Number of crashed target algorithm runs: 0\n",
      "  Number of target algorithms that exceeded the time limit: 11\n",
      "  Number of target algorithms that exceeded the memory limit: 0\n",
      "\n",
      "MAE: 0.10\n"
     ]
    }
   ],
   "source": [
    "# summarize\n",
    "print(model_mae.sprint_statistics())\n",
    "# evaluate best model_mae\n",
    "ar_train_pred = model_mae.predict(X_train)\n",
    "ar_test_pred = model_mae.predict(X_test)\n",
    "mae = mean_absolute_error(y_test, ar_test_pred)\n",
    "print(f\"MAE: {mae:.2f}\")"
   ]
  },
  {
   "cell_type": "code",
   "execution_count": 125,
   "metadata": {},
   "outputs": [
    {
     "name": "stdout",
     "output_type": "stream",
     "text": [
      "AutoSklearn train RMSE 0.121\n",
      "AutoSklearn test  RMSE 0.135\n"
     ]
    }
   ],
   "source": [
    "prediction_out('AutoSklearn', model_mae);"
   ]
  },
  {
   "cell_type": "markdown",
   "metadata": {},
   "source": [
    "**KERAS**"
   ]
  },
  {
   "cell_type": "code",
   "execution_count": 126,
   "metadata": {},
   "outputs": [],
   "source": [
    "from keras.models import Sequential\n",
    "from keras.layers import Dense\n",
    "import tensorflow as tf\n",
    "from keras.wrappers.scikit_learn import KerasRegressor\n",
    "from sklearn.model_selection import cross_val_score\n",
    "from sklearn.model_selection import KFold\n",
    "from sklearn.preprocessing import StandardScaler\n",
    "from sklearn.pipeline import Pipeline\n",
    "import logging\n",
    "tf.get_logger().setLevel(logging.ERROR)"
   ]
  },
  {
   "cell_type": "code",
   "execution_count": 127,
   "metadata": {},
   "outputs": [],
   "source": [
    "# define base model wraper\n",
    "def baseline_model_arg(activation_type):\n",
    "    # create model\n",
    "    def baseline_model():\n",
    "        model = Sequential()\n",
    "        model.add(Dense(12, input_dim=8, kernel_initializer='normal', activation=activation_type))\n",
    "        model.add(Dense(8, activation=activation_type))\n",
    "        model.add(Dense(1, kernel_initializer='normal'))\n",
    "        # Compile model\n",
    "        model.compile(loss='mean_squared_error', optimizer='adam')\n",
    "        return model\n",
    "    return baseline_model"
   ]
  },
  {
   "cell_type": "code",
   "execution_count": 128,
   "metadata": {},
   "outputs": [],
   "source": [
    "#define keras model function serealization\n",
    "def KerasRMSE(epoch, batches, activator, verbosity=0):\n",
    "    kfold_s = KFold(n_splits=10)\n",
    "    estimator_ks = KerasRegressor(build_fn=baseline_model_arg(activator), epochs=epoch, batch_size=batches, verbose=verbosity)\n",
    "    %time results_s = cross_val_score(estimator_ks, X, y, cv=kfold_s)\n",
    "    callbacks_list = [\n",
    "    tf.keras.callbacks.EarlyStopping(patience=2),\n",
    "    tf.keras.callbacks.ModelCheckpoint(filepath='./models/model.{epoch:02d}-{val_loss:.2f}.h5'),\n",
    "    tf.keras.callbacks.TensorBoard(log_dir=f'./logs/{date.today().strftime(\"%b-%d-%Y\")}'),]\n",
    "    estimator_ks.fit(X_train, y_train, validation_split=0.33, callbacks=callbacks_list)\n",
    "                    \n",
    "    return estimator_ks"
   ]
  },
  {
   "cell_type": "code",
   "execution_count": 129,
   "metadata": {},
   "outputs": [],
   "source": [
    "activations_full = ['relu', 'sigmoid', 'softmax', 'softplus']\n",
    "def KerasAuto(activators, epochs, verbosity=0):\n",
    "    batches = 5\n",
    "    estimator_ks_1 = KerasRMSE(epochs[0], batches, activators[0], verbosity)\n",
    "    o1, o2, _, _ = prediction_out(f'keras {epochs[0]} {batches}', estimator_ks_1)\n",
    "    for i, activator in enumerate(activators):\n",
    "        for j, epoch in enumerate(epochs):\n",
    "            if i == 0 and j == 0:\n",
    "                continue\n",
    "            estimator_ks_2 = KerasRMSE(epoch, batches, activator, verbosity)\n",
    "            l1, l2, _, _ = prediction_out(f'keras {epoch} {batches}', estimator_ks_2)\n",
    "            if l2 > o2 and abs(o2 - o1) < abs(l2 - l1):\n",
    "                break\n",
    "            if l2 < o2:\n",
    "                o1 = l1\n",
    "                o2 = l2\n",
    "                estimator_ks_1 = estimator_ks_2\n",
    "            print(f'{activator, epoch}')\n",
    "    return estimator_ks_1"
   ]
  },
  {
   "cell_type": "code",
   "execution_count": 130,
   "metadata": {},
   "outputs": [
    {
     "name": "stdout",
     "output_type": "stream",
     "text": [
      "CPU times: user 4min 21s, sys: 27.4 s, total: 4min 48s\n",
      "Wall time: 2min 27s\n",
      "keras 50 5 train RMSE 0.136\n",
      "keras 50 5 test  RMSE 0.144\n",
      "CPU times: user 7min 40s, sys: 48.9 s, total: 8min 29s\n",
      "Wall time: 4min 16s\n",
      "keras 100 5 train RMSE 0.132\n",
      "keras 100 5 test  RMSE 0.143\n",
      "('relu', 100)\n",
      "CPU times: user 3min 56s, sys: 24.7 s, total: 4min 21s\n",
      "Wall time: 2min 14s\n",
      "keras 50 5 train RMSE 0.131\n",
      "keras 50 5 test  RMSE 0.139\n",
      "('sigmoid', 50)\n",
      "CPU times: user 7min 3s, sys: 43.6 s, total: 7min 46s\n",
      "Wall time: 3min 54s\n",
      "keras 100 5 train RMSE 0.130\n",
      "keras 100 5 test  RMSE 0.138\n",
      "('sigmoid', 100)\n",
      "CPU times: user 3min 51s, sys: 21.3 s, total: 4min 12s\n",
      "Wall time: 2min 9s\n",
      "keras 50 5 train RMSE 0.130\n",
      "keras 50 5 test  RMSE 0.138\n",
      "CPU times: user 4min 35s, sys: 28.7 s, total: 5min 4s\n",
      "Wall time: 2min 35s\n",
      "keras 50 5 train RMSE 0.130\n",
      "keras 50 5 test  RMSE 0.139\n"
     ]
    }
   ],
   "source": [
    "epochs = [50, 100]\n",
    "estimator_ks_1 = KerasAuto(activations_full, epochs)"
   ]
  },
  {
   "cell_type": "code",
   "execution_count": 131,
   "metadata": {},
   "outputs": [
    {
     "name": "stdout",
     "output_type": "stream",
     "text": [
      "linear train RMSE 0.129\n",
      "linear test  RMSE 0.139\n",
      "AutoSklearn train RMSE 0.121\n",
      "AutoSklearn test  RMSE 0.135\n",
      "keras train RMSE 0.130\n",
      "keras test  RMSE 0.138\n"
     ]
    }
   ],
   "source": [
    "prediction_out('linear', lr)\n",
    "_, _, am_train_pred, am_test_pred = prediction_out('AutoSklearn', model_mae)\n",
    "_, _, keras_train_pred, keras_test_pred = prediction_out('keras', estimator_ks_1)"
   ]
  },
  {
   "cell_type": "code",
   "execution_count": 132,
   "metadata": {},
   "outputs": [
    {
     "name": "stdout",
     "output_type": "stream",
     "text": [
      ">keras -0.104 (0.007)\n",
      ">AutoSklearn -0.103 (0.006)\n",
      ">linear -0.103 (0.006)\n"
     ]
    }
   ],
   "source": [
    "scores = cross_val_score(estimator_ks_1, X, y, scoring='neg_mean_absolute_error', cv=KFold(n_splits=10), n_jobs=-1)\n",
    "name = 'keras'\n",
    "print(f'>{name} {mean(scores):.3f} ({std(scores):.3f})')\n",
    "name = 'AutoSklearn'\n",
    "scores = cross_val_score(lr, X, y, scoring='neg_mean_absolute_error', cv=KFold(n_splits=10), n_jobs=-1)\n",
    "print(f'>{name} {mean(scores):.3f} ({std(scores):.3f})')\n",
    "scores = cross_val_score(lr, X, y, scoring='neg_mean_absolute_error', cv=KFold(n_splits=10), n_jobs=-1)\n",
    "name = 'linear'\n",
    "print(f'>{name} {mean(scores):.3f} ({std(scores):.3f})')"
   ]
  },
  {
   "cell_type": "code",
   "execution_count": 133,
   "metadata": {},
   "outputs": [
    {
     "data": {
      "image/png": "[encoded data removed]",
      "text/plain": [
       "<Figure size 1920x640 with 3 Axes>"
      ]
     },
     "metadata": {
      "needs_background": "light"
     },
     "output_type": "display_data"
    }
   ],
   "source": [
    "import matplotlib.gridspec as gridspec\n",
    "\n",
    "gs = gridspec.GridSpec(1, 3)\n",
    "fig = plt.figure(figsize=(24, 8), dpi=80)\n",
    "ax1 = fig.add_subplot(gs[0, 0])\n",
    "ax1.scatter(y_test, lr_test_pred)\n",
    "ax1.update(dict(title='Linear', xlabel='value', ylabel='prediction'))\n",
    "\n",
    "ax2 = fig.add_subplot(gs[0, 1])\n",
    "ax2.scatter(y_test, keras_test_pred)\n",
    "ax2.update(dict(title='Keras', xlabel='value', ylabel='prediction'))\n",
    "\n",
    "ax3 = fig.add_subplot(gs[0, 2])\n",
    "ax3.scatter(y_test, am_test_pred)\n",
    "ax3.update(dict(title='AutoML', xlabel='value', ylabel='prediction'))\n",
    "plt.show()"
   ]
  },
  {
   "cell_type": "markdown",
   "metadata": {},
   "source": [
    "**Conclusion**\n",
    "\n",
    "AutoML appears to be aproximating data the best however due to skewed distribution in quality it would require more data or different approach."
   ]
  },
  {
   "cell_type": "markdown",
   "metadata": {},
   "source": [
    "**Logistic regression:** "
   ]
  },
  {
   "cell_type": "code",
   "execution_count": 134,
   "metadata": {},
   "outputs": [],
   "source": [
    "reduced_df = scaled_df.copy()\n",
    "reduced_df['quality_reduced'] = scaled_df.quality.apply(lambda x: 'bad' if x < 0.3 else ('normal' if x < 0.7 else 'good'))\n",
    "reduced_df = reduced_df.drop(columns='quality').rename(columns={'quality_reduced': 'quality'})"
   ]
  },
  {
   "cell_type": "code",
   "execution_count": 135,
   "metadata": {},
   "outputs": [],
   "source": [
    "features = reduced_df.columns.drop('quality').tolist()"
   ]
  },
  {
   "cell_type": "code",
   "execution_count": 136,
   "metadata": {},
   "outputs": [],
   "source": [
    "X = reduced_df[features]\n",
    "y = reduced_df['quality']"
   ]
  },
  {
   "cell_type": "code",
   "execution_count": 137,
   "metadata": {
    "tags": []
   },
   "outputs": [
    {
     "name": "stdout",
     "output_type": "stream",
     "text": [
      ">0.0000 0.830 (0.022)\n",
      ">0.0100 0.818 (0.003)\n",
      ">0.1000 0.817 (0.005)\n",
      ">0.2000 0.818 (0.008)\n",
      ">0.3000 0.821 (0.011)\n",
      ">0.4000 0.825 (0.012)\n",
      ">0.5000 0.827 (0.013)\n",
      ">0.6000 0.829 (0.014)\n",
      ">1.0000 0.832 (0.016)\n"
     ]
    },
    {
     "data": {
      "image/png": "[encoded data removed]",
      "text/plain": [
       "<Figure size 432x288 with 1 Axes>"
      ]
     },
     "metadata": {
      "needs_background": "light"
     },
     "output_type": "display_data"
    }
   ],
   "source": [
    "from numpy import mean\n",
    "from numpy import std\n",
    "from sklearn.datasets import make_classification\n",
    "from sklearn.model_selection import RepeatedStratifiedKFold\n",
    "from sklearn.linear_model import LogisticRegression\n",
    "# get a list of models to evaluate\n",
    "\n",
    "def get_models():\n",
    "    models = dict()\n",
    "    for p in [0.0, 0.01, 0.1, 0.2, 0.3, 0.4, 0.5, 0.6, 1.0]:\n",
    "        # create name for model\n",
    "        key = '%.4f' % p\n",
    "        # turn off penalty in some cases\n",
    "        if p == 0.0:\n",
    "            # no penalty in this case\n",
    "            models[key] = LogisticRegression(multi_class='multinomial', solver='lbfgs', penalty='none')\n",
    "        else:\n",
    "            models[key] = LogisticRegression(multi_class='multinomial', solver='lbfgs', penalty='l2', C=p)\n",
    "    return models\n",
    " \n",
    "# evaluate a give model using cross-validation\n",
    "def evaluate_model(model, X, y):\n",
    "    # define the evaluation procedure\n",
    "    cv = RepeatedStratifiedKFold(n_splits=10, n_repeats=20, random_state=1)\n",
    "    # evaluate the model\n",
    "    scores = cross_val_score(model, X, y, scoring='accuracy', cv=cv, n_jobs=-1)\n",
    "    return scores\n",
    " \n",
    "# get the models to evaluate\n",
    "models = get_models()\n",
    "# evaluate the models and store results\n",
    "results, names = list(), list()\n",
    "for name, model in models.items():\n",
    "    # evaluate the model and collect the scores\n",
    "    scores = evaluate_model(model, X, y)\n",
    "    # store the results\n",
    "    results.append(scores)\n",
    "    names.append(name)\n",
    "    # summarize progress along the way\n",
    "    print('>%s %.3f (%.3f)' % (name, mean(scores), std(scores)))\n",
    "# plot model performance for comparison\n",
    "plt.boxplot(results, labels=names, showmeans=True)\n",
    "plt.show()"
   ]
  },
  {
   "cell_type": "code",
   "execution_count": null,
   "metadata": {
    "tags": []
   },
   "outputs": [],
   "source": []
  }
 ],
 "metadata": {
  "kernelspec": {
   "display_name": "Python 3",
   "language": "python",
   "name": "python3"
  },
  "language_info": {
   "codemirror_mode": {
    "name": "ipython",
    "version": 3
   },
   "file_extension": ".py",
   "mimetype": "text/x-python",
   "name": "python",
   "nbconvert_exporter": "python",
   "pygments_lexer": "ipython3",
   "version": "3.8.8"
  }
 },
 "nbformat": 4,
 "nbformat_minor": 4
}
